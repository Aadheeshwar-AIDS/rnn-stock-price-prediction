{
  "cells": [
    {
      "cell_type": "code",
      "execution_count": 1,
      "metadata": {
        "id": "n1grVSqwxGBm"
      },
      "outputs": [],
      "source": [
        "import numpy as np\n",
        "import matplotlib.pyplot as plt\n",
        "import pandas as pd\n",
        "from sklearn.preprocessing import MinMaxScaler\n",
        "from keras import layers\n",
        "from keras.models import Sequential"
      ]
    },
    {
      "cell_type": "code",
      "execution_count": 2,
      "metadata": {
        "colab": {
          "base_uri": "https://localhost:8080/"
        },
        "id": "-lDoWKaFxp8y",
        "outputId": "14e0d4e2-a265-4089-be50-4491ba43ee06"
      },
      "outputs": [
        {
          "data": {
            "text/plain": [
              "Index(['Date', 'Open', 'High', 'Low', 'Close', 'Adj Close', 'Volume'], dtype='object')"
            ]
          },
          "execution_count": 2,
          "metadata": {},
          "output_type": "execute_result"
        }
      ],
      "source": [
        "dataset_train = pd.read_csv('trainset.csv')\n",
        "dataset_train.columns"
      ]
    },
    {
      "cell_type": "code",
      "execution_count": 3,
      "metadata": {
        "colab": {
          "base_uri": "https://localhost:8080/"
        },
        "id": "VDwcy_8kxsaw",
        "outputId": "7165526d-d721-478b-a50c-e4167435abc4"
      },
      "outputs": [
        {
          "name": "stdout",
          "output_type": "stream",
          "text": [
            "<class 'numpy.ndarray'>\n"
          ]
        },
        {
          "data": {
            "text/plain": [
              "(1259, 1)"
            ]
          },
          "execution_count": 3,
          "metadata": {},
          "output_type": "execute_result"
        }
      ],
      "source": [
        "dataset_train.head()\n",
        "\n",
        "train_set = dataset_train.iloc[:,1:2].values\n",
        "print(type(train_set))\n",
        "\n",
        "train_set.shape"
      ]
    },
    {
      "cell_type": "code",
      "execution_count": 6,
      "metadata": {
        "colab": {
          "base_uri": "https://localhost:8080/"
        },
        "id": "PTovrHz9xxbg",
        "outputId": "afd225e5-358d-4f06-b24d-7e269ef09728"
      },
      "outputs": [
        {
          "name": "stdout",
          "output_type": "stream",
          "text": [
            "[[ 357.385559]\n",
            " [ 360.122742]\n",
            " [ 362.313507]\n",
            " ...\n",
            " [1057.390015]\n",
            " [1051.599976]\n",
            " [1046.719971]]\n"
          ]
        }
      ],
      "source": [
        "print(train_set)\n"
      ]
    },
    {
      "cell_type": "code",
      "execution_count": 7,
      "metadata": {
        "colab": {
          "base_uri": "https://localhost:8080/"
        },
        "id": "67AUem6bx6G4",
        "outputId": "e77f8d50-51b7-44ef-9b5f-4176f867507b"
      },
      "outputs": [
        {
          "data": {
            "text/plain": [
              "(1259, 1)"
            ]
          },
          "execution_count": 7,
          "metadata": {},
          "output_type": "execute_result"
        }
      ],
      "source": [
        "sc = MinMaxScaler(feature_range=(0,1))\n",
        "training_set_scaled = sc.fit_transform(train_set)\n",
        "training_set_scaled.shape"
      ]
    },
    {
      "cell_type": "code",
      "execution_count": 8,
      "metadata": {
        "colab": {
          "base_uri": "https://localhost:8080/"
        },
        "id": "YzlZ2p1eyC8o",
        "outputId": "147a8d94-5392-4ebb-9cfe-39c1f22dc74f"
      },
      "outputs": [
        {
          "data": {
            "text/plain": [
              "(1199, 60)"
            ]
          },
          "execution_count": 8,
          "metadata": {},
          "output_type": "execute_result"
        }
      ],
      "source": [
        "X_train_array = []\n",
        "y_train_array = []\n",
        "for i in range(60, 1259):\n",
        "    X_train_array.append(training_set_scaled[i-60:i,0])\n",
        "    y_train_array.append(training_set_scaled[i,0])\n",
        "X_train, y_train = np.array(X_train_array), np.array(y_train_array)\n",
        "X_train1 = X_train.reshape((X_train.shape[0], X_train.shape[1],1))\n",
        "\n",
        "X_train.shape"
      ]
    },
    {
      "cell_type": "code",
      "execution_count": 9,
      "metadata": {
        "colab": {
          "base_uri": "https://localhost:8080/"
        },
        "id": "Pk1sVz-tyFNY",
        "outputId": "86274166-1e2e-481b-9990-8fde30c1cd52"
      },
      "outputs": [
        {
          "name": "stdout",
          "output_type": "stream",
          "text": [
            "Model: \"sequential\"\n",
            "_________________________________________________________________\n",
            " Layer (type)                Output Shape              Param #   \n",
            "=================================================================\n",
            " simple_rnn (SimpleRNN)      (None, 42)                1848      \n",
            "                                                                 \n",
            " dense (Dense)               (None, 1)                 43        \n",
            "                                                                 \n",
            "=================================================================\n",
            "Total params: 1891 (7.39 KB)\n",
            "Trainable params: 1891 (7.39 KB)\n",
            "Non-trainable params: 0 (0.00 Byte)\n",
            "_________________________________________________________________\n",
            "Epoch 1/20\n",
            "38/38 [==============================] - 3s 23ms/step - loss: 0.0840\n",
            "Epoch 2/20\n",
            "38/38 [==============================] - 0s 8ms/step - loss: 0.0023\n",
            "Epoch 3/20\n",
            "38/38 [==============================] - 0s 9ms/step - loss: 0.0017\n",
            "Epoch 4/20\n",
            "38/38 [==============================] - 0s 10ms/step - loss: 0.0014\n",
            "Epoch 5/20\n",
            "38/38 [==============================] - 0s 9ms/step - loss: 0.0012\n",
            "Epoch 6/20\n",
            "38/38 [==============================] - 0s 10ms/step - loss: 0.0010\n",
            "Epoch 7/20\n",
            "38/38 [==============================] - 0s 9ms/step - loss: 0.0010\n",
            "Epoch 8/20\n",
            "38/38 [==============================] - 0s 9ms/step - loss: 8.3529e-04\n",
            "Epoch 9/20\n",
            "38/38 [==============================] - 0s 9ms/step - loss: 7.8140e-04\n",
            "Epoch 10/20\n",
            "38/38 [==============================] - 0s 10ms/step - loss: 7.2651e-04\n",
            "Epoch 11/20\n",
            "38/38 [==============================] - 1s 18ms/step - loss: 7.0289e-04\n",
            "Epoch 12/20\n",
            "38/38 [==============================] - 1s 15ms/step - loss: 7.5190e-04\n",
            "Epoch 13/20\n",
            "38/38 [==============================] - 1s 17ms/step - loss: 6.7606e-04\n",
            "Epoch 14/20\n",
            "38/38 [==============================] - 1s 16ms/step - loss: 6.3391e-04\n",
            "Epoch 15/20\n",
            "38/38 [==============================] - 1s 15ms/step - loss: 5.9806e-04\n",
            "Epoch 16/20\n",
            "38/38 [==============================] - 0s 9ms/step - loss: 6.1936e-04\n",
            "Epoch 17/20\n",
            "38/38 [==============================] - 0s 10ms/step - loss: 5.7483e-04\n",
            "Epoch 18/20\n",
            "38/38 [==============================] - 0s 11ms/step - loss: 6.4215e-04\n",
            "Epoch 19/20\n",
            "38/38 [==============================] - 0s 11ms/step - loss: 5.5115e-04\n",
            "Epoch 20/20\n",
            "38/38 [==============================] - 0s 9ms/step - loss: 5.2342e-04\n"
          ]
        },
        {
          "data": {
            "text/plain": [
              "<keras.src.callbacks.History at 0x7f8b202809d0>"
            ]
          },
          "execution_count": 9,
          "metadata": {},
          "output_type": "execute_result"
        }
      ],
      "source": [
        "length = 60\n",
        "n_features = 1\n",
        "\n",
        "model = Sequential([layers.SimpleRNN(42,input_shape=(60,1)),\n",
        "                    layers.Dense(1)])\n",
        "\n",
        "model.compile(optimizer='adam',loss='mse')\n",
        "model.summary()\n",
        "\n",
        "model.fit(X_train1,y_train,epochs=20, batch_size=32)"
      ]
    },
    {
      "cell_type": "code",
      "execution_count": 10,
      "metadata": {
        "colab": {
          "base_uri": "https://localhost:8080/"
        },
        "id": "FqMp9l6gyH6Q",
        "outputId": "f82544f5-c39c-4e3c-ee0d-b2f034d92ad1"
      },
      "outputs": [
        {
          "data": {
            "text/plain": [
              "(125, 1)"
            ]
          },
          "execution_count": 10,
          "metadata": {},
          "output_type": "execute_result"
        }
      ],
      "source": [
        "dataset_test = pd.read_csv('testset.csv')\n",
        "test_set = dataset_test.iloc[:,1:2].values\n",
        "test_set.shape"
      ]
    },
    {
      "cell_type": "code",
      "execution_count": 11,
      "metadata": {
        "colab": {
          "base_uri": "https://localhost:8080/"
        },
        "id": "vDCNFAqqyOZI",
        "outputId": "77cbe4b1-8fd6-4340-fc8b-e4fa5416478c"
      },
      "outputs": [
        {
          "data": {
            "text/plain": [
              "(1324, 60, 1)"
            ]
          },
          "execution_count": 11,
          "metadata": {},
          "output_type": "execute_result"
        }
      ],
      "source": [
        "dataset_total = pd.concat((dataset_train['Open'],dataset_test['Open']),axis=0)\n",
        "inputs = dataset_total.values\n",
        "inputs = inputs.reshape(-1,1)\n",
        "inputs_scaled=sc.transform(inputs)\n",
        "X_test = []\n",
        "y_test = []\n",
        "for i in range(60,1384):\n",
        "    X_test.append(inputs_scaled[i-60:i,0])\n",
        "    y_test.append(inputs_scaled[i,0])\n",
        "X_test = np.array(X_test)\n",
        "X_test = np.reshape(X_test,(X_test.shape[0], X_test.shape[1],1))\n",
        "\n",
        "X_test.shape"
      ]
    },
    {
      "cell_type": "code",
      "execution_count": 12,
      "metadata": {
        "colab": {
          "base_uri": "https://localhost:8080/",
          "height": 489
        },
        "id": "y5hRLueoyQo4",
        "outputId": "e672953f-899e-491a-e14c-c1aae4bfd7c0"
      },
      "outputs": [
        {
          "name": "stdout",
          "output_type": "stream",
          "text": [
            "42/42 [==============================] - 1s 6ms/step\n"
          ]
        },
        {
          "data": {
            "image/png": "[encoded data removed]",
            "text/plain": [
              "<Figure size 640x480 with 1 Axes>"
            ]
          },
          "metadata": {},
          "output_type": "display_data"
        }
      ],
      "source": [
        "predicted_stock_price_scaled = model.predict(X_test)\n",
        "predicted_stock_price = sc.inverse_transform(predicted_stock_price_scaled)\n",
        "\n",
        "plt.plot(np.arange(0,1384),inputs, color='purple', label = 'Test data')\n",
        "plt.plot(np.arange(60,1384),epredicted_stock_price, color='skyblu', label = 'Predicted stock price')\n",
        "plt.title('Stock Price Prediction')\n",
        "plt.xlabel('Time')\n",
        "plt.ylabel('Stock Price')\n",
        "plt.legend()\n",
        "plt.show()"
      ]
    },
    {
      "cell_type": "code",
      "execution_count": 13,
      "metadata": {
        "colab": {
          "base_uri": "https://localhost:8080/"
        },
        "id": "-5gxNBI8yTCI",
        "outputId": "b68e663f-389b-494f-9f9e-5cff1b6d9c5a"
      },
      "outputs": [
        {
          "data": {
            "text/plain": [
              "541863.9634449469"
            ]
          },
          "execution_count": 13,
          "metadata": {},
          "output_type": "execute_result"
        }
      ],
      "source": [
        "from sklearn.metrics import mean_squared_error as mse\n",
        "mse(y_test,predicted_stock_price)"
      ]
    },
    {
      "cell_type": "code",
      "execution_count": null,
      "metadata": {
        "id": "M4XfTVubyYeg"
      },
      "outputs": [],
      "source": []
    }
  ],
  "metadata": {
    "colab": {
      "provenance": []
    },
    "kernelspec": {
      "display_name": "Python 3",
      "name": "python3"
    },
    "language_info": {
      "name": "python"
    }
  },
  "nbformat": 4,
  "nbformat_minor": 0
}
